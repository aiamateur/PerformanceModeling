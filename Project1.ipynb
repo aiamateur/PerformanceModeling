import queue as Q
import numpy as np
import random

k = 1000
p = 10**10
alpha = 1.5

def generate_random_point(low, high):
    xy = np.random.uniform(low, high, (1,1))
    return xy

def generate_random_bp(k, p, alpha):
    pt = generate_random_point(0,1)
    u = pt[0,0]
    x = k/(1+ u*((k/p)**alpha - 1))**(1/alpha)
    return x
    
class Event(object):
    def __init__(self, eventTime, eventType):
        self.eventTime = eventTime
        self.eventType = eventType
        return
    
    def __le__(self, other):
        return ((self.eventTime < other.eventTime) or (self.eventTime == other.eventTime))
    def __ge__(self, other):
        return ((self.eventTime > other.eventTime) or (self.eventTime == other.eventTime))
    def __lt__(self, other):
        return (self.eventTime < other.eventTime)
    def __gt__(self, other):
        return (self.eventTime > other.eventTime)
    def __eq__(self, other):
        return (self.eventTime == other.eventTime)
    def __ne__(self, other):
        return (self.eventTime != other.eventTime)
    
    def setTime(self, etime):
        self.eventTime = etime
    def setType(self, etype):
        self.eventType = etype     
    def getTime(self):
        return self.eventTime
    def getType(self):
        return self.eventType
       
    
class Sim(object):
    FutureEventList = Q.PriorityQueue()
    Jobs = Q.Queue()
    
    def __init__(self, meanInterArrivalTime, meanServiceTime, varianceServiceTime):
        self.meanInterArrivalTime = meanInterArrivalTime
        self.meanServiceTime = meanServiceTime
        self.varianceServiceTime = varianceServiceTime
        self.queueLength = 0
        self.numInService = 0
        self.lastEventTime = 0.0
        self.totalBusy = 0.0
        self.sumResponseTime = 0.0
        self.numOfDepartures = 0
              
    def initialization(self):
        timeToNextArrival = self.generateRandomInterArrivalTime()
        arrivalEvent = Event(timeToNextArrival, 'arrival')
        Sim.FutureEventList.put(arrivalEvent)
        return
    
    def generateRandomInterArrivalTime(self):
        return np.random.exponential(scale=self.meanInterArrivalTime)
    
    def processArrival(self, event, clock):
        Sim.Jobs.put(event)
        self.queueLength = self.queueLength+1
        
        if(self.numInService == 0):
            self.scheduleService(clock)
        else:
            self.totalBusy = self.totalBusy + clock - self.lastEventTime
            
        #Schedule next arrival
        timeToNextArrival = self.generateRandomInterArrivalTime()
        nextArrival = Event(clock+timeToNextArrival, 'arrival')
        
        Sim.FutureEventList.put(nextArrival)
        self.lastEventTime = clock
        
    def scheduleService(self, clock):
        serviceTime = -1.0
        while(serviceTime < 0):
            serviceTime = random.gauss(self.meanServiceTime, self.varianceServiceTime)
        nextDeparture = Event(clock+serviceTime, 'departure')
        Sim.FutureEventList.put(nextDeparture)
        self.numInService = 1
        self.queueLength = self.queueLength - 1
        
    def processDeparture(self, event, clock):
        finished = Sim.Jobs.get()
        
        if(self.queueLength > 0):
            self.scheduleService(clock)
        else:
            self.numInService = 0
            
        responseTime = clock - finished.getTime()
        self.sumResponseTime =  self.sumResponseTime + responseTime
        
        self.totalBusy = self.totalBusy + clock - self.lastEventTime
        self.numOfDepartures = self.numOfDepartures + 1
        self.lastEventTime = clock
        
    def reportGeneration(self):
        return
        
            
        
    
totalCustomers = 5
simClock = 0.0
simu = Sim(4.5, 3.2, 0.6)
simu.initialization()


while(simu.numOfDepartures < totalCustomers):
    event = Sim.FutureEventList.get()
    print(event.getTime())
    print(event.getType())
    simClock = event.getTime()
    if(event.getType() == 'arrival'):
        simu.processArrival(event, simClock)
    else:
        simu.processDeparture(event, simClock)
        
simu.reportGeneration()
            
    
